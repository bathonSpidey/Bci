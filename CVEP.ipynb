{
 "cells": [
  {
   "cell_type": "code",
   "execution_count": 1,
   "metadata": {},
   "outputs": [],
   "source": [
    "import numpy as np\n",
    "import pandas as pd\n",
    "import matplotlib.pyplot as plt\n",
    "import seaborn as sns\n",
    "%matplotlib inline"
   ]
  },
  {
   "cell_type": "code",
   "execution_count": 5,
   "metadata": {},
   "outputs": [],
   "source": [
    "X=pd.read_csv('dataVeryNew.csv',header=None)"
   ]
  },
  {
   "cell_type": "code",
   "execution_count": 7,
   "metadata": {},
   "outputs": [
    {
     "data": {
      "text/html": [
       "<div>\n",
       "<table border=\"1\" class=\"dataframe\">\n",
       "  <thead>\n",
       "    <tr style=\"text-align: right;\">\n",
       "      <th></th>\n",
       "      <th>0</th>\n",
       "      <th>1</th>\n",
       "      <th>2</th>\n",
       "      <th>3</th>\n",
       "      <th>4</th>\n",
       "      <th>5</th>\n",
       "      <th>6</th>\n",
       "      <th>7</th>\n",
       "      <th>8</th>\n",
       "      <th>9</th>\n",
       "      <th>...</th>\n",
       "      <th>590</th>\n",
       "      <th>591</th>\n",
       "      <th>592</th>\n",
       "      <th>593</th>\n",
       "      <th>594</th>\n",
       "      <th>595</th>\n",
       "      <th>596</th>\n",
       "      <th>597</th>\n",
       "      <th>598</th>\n",
       "      <th>599</th>\n",
       "    </tr>\n",
       "  </thead>\n",
       "  <tbody>\n",
       "    <tr>\n",
       "      <th>0</th>\n",
       "      <td>-0.379692</td>\n",
       "      <td>-0.454104</td>\n",
       "      <td>-0.415149</td>\n",
       "      <td>-0.265008</td>\n",
       "      <td>-0.079110</td>\n",
       "      <td>0.039784</td>\n",
       "      <td>0.035452</td>\n",
       "      <td>-0.052165</td>\n",
       "      <td>-0.107993</td>\n",
       "      <td>-0.044552</td>\n",
       "      <td>...</td>\n",
       "      <td>-1.106869</td>\n",
       "      <td>-1.182543</td>\n",
       "      <td>-1.243200</td>\n",
       "      <td>-1.315114</td>\n",
       "      <td>-1.397917</td>\n",
       "      <td>-1.465740</td>\n",
       "      <td>-1.446542</td>\n",
       "      <td>-1.255863</td>\n",
       "      <td>-0.881428</td>\n",
       "      <td>-0.405025</td>\n",
       "    </tr>\n",
       "    <tr>\n",
       "      <th>1</th>\n",
       "      <td>-0.830463</td>\n",
       "      <td>-0.933741</td>\n",
       "      <td>-1.228357</td>\n",
       "      <td>-1.612108</td>\n",
       "      <td>-1.925445</td>\n",
       "      <td>-1.996463</td>\n",
       "      <td>-1.755858</td>\n",
       "      <td>-1.293943</td>\n",
       "      <td>-0.767981</td>\n",
       "      <td>-0.297093</td>\n",
       "      <td>...</td>\n",
       "      <td>0.945751</td>\n",
       "      <td>1.326272</td>\n",
       "      <td>1.472521</td>\n",
       "      <td>1.449853</td>\n",
       "      <td>1.321444</td>\n",
       "      <td>1.203527</td>\n",
       "      <td>1.241874</td>\n",
       "      <td>1.488403</td>\n",
       "      <td>1.851707</td>\n",
       "      <td>2.161115</td>\n",
       "    </tr>\n",
       "    <tr>\n",
       "      <th>2</th>\n",
       "      <td>0.795359</td>\n",
       "      <td>0.230234</td>\n",
       "      <td>-0.283559</td>\n",
       "      <td>-0.698876</td>\n",
       "      <td>-1.016541</td>\n",
       "      <td>-1.239970</td>\n",
       "      <td>-1.337719</td>\n",
       "      <td>-1.246307</td>\n",
       "      <td>-0.927059</td>\n",
       "      <td>-0.418561</td>\n",
       "      <td>...</td>\n",
       "      <td>2.364837</td>\n",
       "      <td>2.295799</td>\n",
       "      <td>1.971743</td>\n",
       "      <td>1.566869</td>\n",
       "      <td>1.231217</td>\n",
       "      <td>1.037991</td>\n",
       "      <td>0.984538</td>\n",
       "      <td>1.013370</td>\n",
       "      <td>1.023767</td>\n",
       "      <td>0.916695</td>\n",
       "    </tr>\n",
       "    <tr>\n",
       "      <th>3</th>\n",
       "      <td>0.590751</td>\n",
       "      <td>0.996320</td>\n",
       "      <td>1.426852</td>\n",
       "      <td>1.725096</td>\n",
       "      <td>1.795456</td>\n",
       "      <td>1.668370</td>\n",
       "      <td>1.433989</td>\n",
       "      <td>1.145003</td>\n",
       "      <td>0.823642</td>\n",
       "      <td>0.519147</td>\n",
       "      <td>...</td>\n",
       "      <td>-0.452994</td>\n",
       "      <td>-0.497307</td>\n",
       "      <td>-0.385697</td>\n",
       "      <td>-0.189608</td>\n",
       "      <td>0.013005</td>\n",
       "      <td>0.169361</td>\n",
       "      <td>0.237480</td>\n",
       "      <td>0.173079</td>\n",
       "      <td>-0.023464</td>\n",
       "      <td>-0.273444</td>\n",
       "    </tr>\n",
       "    <tr>\n",
       "      <th>4</th>\n",
       "      <td>-0.737616</td>\n",
       "      <td>-0.548115</td>\n",
       "      <td>-0.254184</td>\n",
       "      <td>0.019243</td>\n",
       "      <td>0.144307</td>\n",
       "      <td>0.064583</td>\n",
       "      <td>-0.154560</td>\n",
       "      <td>-0.373223</td>\n",
       "      <td>-0.482244</td>\n",
       "      <td>-0.445624</td>\n",
       "      <td>...</td>\n",
       "      <td>-0.400257</td>\n",
       "      <td>-0.369076</td>\n",
       "      <td>-0.398981</td>\n",
       "      <td>-0.488138</td>\n",
       "      <td>-0.656087</td>\n",
       "      <td>-0.898467</td>\n",
       "      <td>-1.148157</td>\n",
       "      <td>-1.302496</td>\n",
       "      <td>-1.308680</td>\n",
       "      <td>-1.183336</td>\n",
       "    </tr>\n",
       "  </tbody>\n",
       "</table>\n",
       "<p>5 rows × 600 columns</p>\n",
       "</div>"
      ],
      "text/plain": [
       "        0         1         2         3         4         5         6    \\\n",
       "0 -0.379692 -0.454104 -0.415149 -0.265008 -0.079110  0.039784  0.035452   \n",
       "1 -0.830463 -0.933741 -1.228357 -1.612108 -1.925445 -1.996463 -1.755858   \n",
       "2  0.795359  0.230234 -0.283559 -0.698876 -1.016541 -1.239970 -1.337719   \n",
       "3  0.590751  0.996320  1.426852  1.725096  1.795456  1.668370  1.433989   \n",
       "4 -0.737616 -0.548115 -0.254184  0.019243  0.144307  0.064583 -0.154560   \n",
       "\n",
       "        7         8         9      ...          590       591       592  \\\n",
       "0 -0.052165 -0.107993 -0.044552    ...    -1.106869 -1.182543 -1.243200   \n",
       "1 -1.293943 -0.767981 -0.297093    ...     0.945751  1.326272  1.472521   \n",
       "2 -1.246307 -0.927059 -0.418561    ...     2.364837  2.295799  1.971743   \n",
       "3  1.145003  0.823642  0.519147    ...    -0.452994 -0.497307 -0.385697   \n",
       "4 -0.373223 -0.482244 -0.445624    ...    -0.400257 -0.369076 -0.398981   \n",
       "\n",
       "        593       594       595       596       597       598       599  \n",
       "0 -1.315114 -1.397917 -1.465740 -1.446542 -1.255863 -0.881428 -0.405025  \n",
       "1  1.449853  1.321444  1.203527  1.241874  1.488403  1.851707  2.161115  \n",
       "2  1.566869  1.231217  1.037991  0.984538  1.013370  1.023767  0.916695  \n",
       "3 -0.189608  0.013005  0.169361  0.237480  0.173079 -0.023464 -0.273444  \n",
       "4 -0.488138 -0.656087 -0.898467 -1.148157 -1.302496 -1.308680 -1.183336  \n",
       "\n",
       "[5 rows x 600 columns]"
      ]
     },
     "execution_count": 7,
     "metadata": {},
     "output_type": "execute_result"
    }
   ],
   "source": [
    "X.head()"
   ]
  },
  {
   "cell_type": "code",
   "execution_count": 10,
   "metadata": {},
   "outputs": [],
   "source": [
    "y=pd.read_csv('finalLabels.csv', header=None)"
   ]
  },
  {
   "cell_type": "code",
   "execution_count": 11,
   "metadata": {},
   "outputs": [
    {
     "data": {
      "text/html": [
       "<div>\n",
       "<table border=\"1\" class=\"dataframe\">\n",
       "  <thead>\n",
       "    <tr style=\"text-align: right;\">\n",
       "      <th></th>\n",
       "      <th>0</th>\n",
       "      <th>1</th>\n",
       "      <th>2</th>\n",
       "      <th>3</th>\n",
       "      <th>4</th>\n",
       "      <th>5</th>\n",
       "      <th>6</th>\n",
       "      <th>7</th>\n",
       "      <th>8</th>\n",
       "      <th>9</th>\n",
       "      <th>...</th>\n",
       "      <th>38</th>\n",
       "      <th>39</th>\n",
       "      <th>40</th>\n",
       "      <th>41</th>\n",
       "      <th>42</th>\n",
       "      <th>43</th>\n",
       "      <th>44</th>\n",
       "      <th>45</th>\n",
       "      <th>46</th>\n",
       "      <th>47</th>\n",
       "    </tr>\n",
       "  </thead>\n",
       "  <tbody>\n",
       "    <tr>\n",
       "      <th>0</th>\n",
       "      <td>0</td>\n",
       "      <td>1</td>\n",
       "      <td>2</td>\n",
       "      <td>3</td>\n",
       "      <td>4</td>\n",
       "      <td>5</td>\n",
       "      <td>6</td>\n",
       "      <td>7</td>\n",
       "      <td>0</td>\n",
       "      <td>1</td>\n",
       "      <td>...</td>\n",
       "      <td>6</td>\n",
       "      <td>7</td>\n",
       "      <td>0</td>\n",
       "      <td>1</td>\n",
       "      <td>2</td>\n",
       "      <td>3</td>\n",
       "      <td>4</td>\n",
       "      <td>5</td>\n",
       "      <td>6</td>\n",
       "      <td>7</td>\n",
       "    </tr>\n",
       "  </tbody>\n",
       "</table>\n",
       "<p>1 rows × 48 columns</p>\n",
       "</div>"
      ],
      "text/plain": [
       "   0   1   2   3   4   5   6   7   8   9  ...  38  39  40  41  42  43  44  45  \\\n",
       "0   0   1   2   3   4   5   6   7   0   1 ...   6   7   0   1   2   3   4   5   \n",
       "\n",
       "   46  47  \n",
       "0   6   7  \n",
       "\n",
       "[1 rows x 48 columns]"
      ]
     },
     "execution_count": 11,
     "metadata": {},
     "output_type": "execute_result"
    }
   ],
   "source": [
    "y.head()"
   ]
  },
  {
   "cell_type": "code",
   "execution_count": 12,
   "metadata": {},
   "outputs": [],
   "source": [
    "y=y.transpose()"
   ]
  },
  {
   "cell_type": "code",
   "execution_count": 15,
   "metadata": {},
   "outputs": [
    {
     "data": {
      "text/plain": [
       "(48, 1)"
      ]
     },
     "execution_count": 15,
     "metadata": {},
     "output_type": "execute_result"
    }
   ],
   "source": [
    "y.shape"
   ]
  },
  {
   "cell_type": "code",
   "execution_count": 16,
   "metadata": {},
   "outputs": [],
   "source": [
    "from sklearn.model_selection import train_test_split\n",
    "X_train, X_test, y_train, y_test = train_test_split(X,y,test_size=0.2, random_state=121)"
   ]
  },
  {
   "cell_type": "code",
   "execution_count": 17,
   "metadata": {},
   "outputs": [
    {
     "name": "stderr",
     "output_type": "stream",
     "text": [
      "/usr/local/lib/python3.5/dist-packages/sklearn/utils/validation.py:724: DataConversionWarning: A column-vector y was passed when a 1d array was expected. Please change the shape of y to (n_samples, ), for example using ravel().\n",
      "  y = column_or_1d(y, warn=True)\n"
     ]
    }
   ],
   "source": [
    "from sklearn.svm import SVC\n",
    "model_svc=SVC(kernel='linear',decision_function_shape='ovo',C=1)\n",
    "model_svc.fit(X_train,y_train)\n",
    "pred_svc=model_svc.predict(X_test)"
   ]
  },
  {
   "cell_type": "code",
   "execution_count": 18,
   "metadata": {},
   "outputs": [
    {
     "data": {
      "text/plain": [
       "array([[1, 0, 0, 0, 0, 0],\n",
       "       [0, 3, 0, 0, 0, 0],\n",
       "       [0, 0, 1, 0, 0, 0],\n",
       "       [0, 0, 0, 3, 0, 0],\n",
       "       [0, 0, 0, 0, 1, 0],\n",
       "       [0, 0, 0, 0, 0, 1]])"
      ]
     },
     "execution_count": 18,
     "metadata": {},
     "output_type": "execute_result"
    }
   ],
   "source": [
    "from sklearn.metrics import confusion_matrix\n",
    "confusion_matrix(y_test, pred_svc)"
   ]
  },
  {
   "cell_type": "code",
   "execution_count": 19,
   "metadata": {},
   "outputs": [
    {
     "name": "stdout",
     "output_type": "stream",
     "text": [
      "              precision    recall  f1-score   support\n",
      "\n",
      "           0       1.00      1.00      1.00         1\n",
      "           1       1.00      1.00      1.00         3\n",
      "           4       1.00      1.00      1.00         1\n",
      "           5       1.00      1.00      1.00         3\n",
      "           6       1.00      1.00      1.00         1\n",
      "           7       1.00      1.00      1.00         1\n",
      "\n",
      "    accuracy                           1.00        10\n",
      "   macro avg       1.00      1.00      1.00        10\n",
      "weighted avg       1.00      1.00      1.00        10\n",
      "\n"
     ]
    }
   ],
   "source": [
    "from sklearn.metrics import classification_report\n",
    "print(classification_report(y_test,pred_svc))"
   ]
  },
  {
   "cell_type": "code",
   "execution_count": null,
   "metadata": {},
   "outputs": [],
   "source": []
  }
 ],
 "metadata": {
  "kernelspec": {
   "display_name": "Python 3",
   "language": "python",
   "name": "python3"
  },
  "language_info": {
   "codemirror_mode": {
    "name": "ipython",
    "version": 3
   },
   "file_extension": ".py",
   "mimetype": "text/x-python",
   "name": "python",
   "nbconvert_exporter": "python",
   "pygments_lexer": "ipython3",
   "version": "3.5.2"
  }
 },
 "nbformat": 4,
 "nbformat_minor": 2
}
