{
 "cells": [
  {
   "cell_type": "code",
   "execution_count": 2,
   "metadata": {},
   "outputs": [],
   "source": [
    "import numpy as np\n",
    "import pandas as pd\n",
    "import matplotlib.pyplot as plt\n",
    "%matplotlib inline"
   ]
  },
  {
   "cell_type": "code",
   "execution_count": 3,
   "metadata": {},
   "outputs": [],
   "source": [
    "train_data=pd.read_csv('data1.csv')\n",
    "validate_data=pd.read_csv('data2.csv')"
   ]
  },
  {
   "cell_type": "code",
   "execution_count": 4,
   "metadata": {},
   "outputs": [
    {
     "data": {
      "text/html": [
       "<div>\n",
       "<table border=\"1\" class=\"dataframe\">\n",
       "  <thead>\n",
       "    <tr style=\"text-align: right;\">\n",
       "      <th></th>\n",
       "      <th>0</th>\n",
       "      <th>1</th>\n",
       "      <th>2</th>\n",
       "      <th>3</th>\n",
       "      <th>4</th>\n",
       "      <th>5</th>\n",
       "      <th>6</th>\n",
       "      <th>7</th>\n",
       "      <th>8</th>\n",
       "      <th>9</th>\n",
       "      <th>...</th>\n",
       "      <th>590</th>\n",
       "      <th>591</th>\n",
       "      <th>592</th>\n",
       "      <th>593</th>\n",
       "      <th>594</th>\n",
       "      <th>595</th>\n",
       "      <th>596</th>\n",
       "      <th>597</th>\n",
       "      <th>598</th>\n",
       "      <th>599</th>\n",
       "    </tr>\n",
       "  </thead>\n",
       "  <tbody>\n",
       "    <tr>\n",
       "      <th>0</th>\n",
       "      <td>-0.320710</td>\n",
       "      <td>-0.813104</td>\n",
       "      <td>-1.797856</td>\n",
       "      <td>-2.671061</td>\n",
       "      <td>-3.103414</td>\n",
       "      <td>-2.988188</td>\n",
       "      <td>-2.511264</td>\n",
       "      <td>-1.782173</td>\n",
       "      <td>-0.957324</td>\n",
       "      <td>-0.046539</td>\n",
       "      <td>...</td>\n",
       "      <td>-1.335625</td>\n",
       "      <td>-1.465457</td>\n",
       "      <td>-1.202740</td>\n",
       "      <td>-0.706720</td>\n",
       "      <td>-0.313735</td>\n",
       "      <td>-0.341366</td>\n",
       "      <td>-0.912081</td>\n",
       "      <td>-1.889642</td>\n",
       "      <td>-2.927776</td>\n",
       "      <td>-3.624055</td>\n",
       "    </tr>\n",
       "    <tr>\n",
       "      <th>1</th>\n",
       "      <td>0.961586</td>\n",
       "      <td>0.989782</td>\n",
       "      <td>0.835355</td>\n",
       "      <td>0.574514</td>\n",
       "      <td>0.386786</td>\n",
       "      <td>0.447138</td>\n",
       "      <td>0.832640</td>\n",
       "      <td>1.519390</td>\n",
       "      <td>2.371436</td>\n",
       "      <td>3.087012</td>\n",
       "      <td>...</td>\n",
       "      <td>-0.656175</td>\n",
       "      <td>-0.949323</td>\n",
       "      <td>-1.478014</td>\n",
       "      <td>-2.073809</td>\n",
       "      <td>-2.520703</td>\n",
       "      <td>-2.747426</td>\n",
       "      <td>-2.871896</td>\n",
       "      <td>-3.083014</td>\n",
       "      <td>-3.378452</td>\n",
       "      <td>-3.450052</td>\n",
       "    </tr>\n",
       "    <tr>\n",
       "      <th>2</th>\n",
       "      <td>0.949166</td>\n",
       "      <td>0.805315</td>\n",
       "      <td>0.293494</td>\n",
       "      <td>-0.344036</td>\n",
       "      <td>-0.910021</td>\n",
       "      <td>-1.272160</td>\n",
       "      <td>-1.433150</td>\n",
       "      <td>-1.559474</td>\n",
       "      <td>-1.808059</td>\n",
       "      <td>-2.157373</td>\n",
       "      <td>...</td>\n",
       "      <td>0.507871</td>\n",
       "      <td>0.489067</td>\n",
       "      <td>0.748604</td>\n",
       "      <td>1.102645</td>\n",
       "      <td>1.308947</td>\n",
       "      <td>1.210047</td>\n",
       "      <td>0.823331</td>\n",
       "      <td>0.280396</td>\n",
       "      <td>-0.199167</td>\n",
       "      <td>-0.320009</td>\n",
       "    </tr>\n",
       "    <tr>\n",
       "      <th>3</th>\n",
       "      <td>0.413452</td>\n",
       "      <td>0.046589</td>\n",
       "      <td>-0.298862</td>\n",
       "      <td>-0.571118</td>\n",
       "      <td>-0.839083</td>\n",
       "      <td>-1.210393</td>\n",
       "      <td>-1.674694</td>\n",
       "      <td>-2.039657</td>\n",
       "      <td>-2.092754</td>\n",
       "      <td>-1.834460</td>\n",
       "      <td>...</td>\n",
       "      <td>-0.869120</td>\n",
       "      <td>-0.388985</td>\n",
       "      <td>0.131208</td>\n",
       "      <td>0.473263</td>\n",
       "      <td>0.459038</td>\n",
       "      <td>0.108430</td>\n",
       "      <td>-0.377032</td>\n",
       "      <td>-0.785222</td>\n",
       "      <td>-0.992103</td>\n",
       "      <td>-0.926204</td>\n",
       "    </tr>\n",
       "    <tr>\n",
       "      <th>4</th>\n",
       "      <td>0.661680</td>\n",
       "      <td>0.707341</td>\n",
       "      <td>0.453906</td>\n",
       "      <td>0.018676</td>\n",
       "      <td>-0.496279</td>\n",
       "      <td>-1.036679</td>\n",
       "      <td>-1.624540</td>\n",
       "      <td>-2.279095</td>\n",
       "      <td>-2.804397</td>\n",
       "      <td>-2.860567</td>\n",
       "      <td>...</td>\n",
       "      <td>-1.782014</td>\n",
       "      <td>-1.935646</td>\n",
       "      <td>-2.017038</td>\n",
       "      <td>-2.030505</td>\n",
       "      <td>-2.001926</td>\n",
       "      <td>-1.968619</td>\n",
       "      <td>-1.952229</td>\n",
       "      <td>-1.972033</td>\n",
       "      <td>-2.073820</td>\n",
       "      <td>-2.284887</td>\n",
       "    </tr>\n",
       "  </tbody>\n",
       "</table>\n",
       "<p>5 rows × 600 columns</p>\n",
       "</div>"
      ],
      "text/plain": [
       "          0         1         2         3         4         5         6  \\\n",
       "0 -0.320710 -0.813104 -1.797856 -2.671061 -3.103414 -2.988188 -2.511264   \n",
       "1  0.961586  0.989782  0.835355  0.574514  0.386786  0.447138  0.832640   \n",
       "2  0.949166  0.805315  0.293494 -0.344036 -0.910021 -1.272160 -1.433150   \n",
       "3  0.413452  0.046589 -0.298862 -0.571118 -0.839083 -1.210393 -1.674694   \n",
       "4  0.661680  0.707341  0.453906  0.018676 -0.496279 -1.036679 -1.624540   \n",
       "\n",
       "          7         8         9    ...          590       591       592  \\\n",
       "0 -1.782173 -0.957324 -0.046539    ...    -1.335625 -1.465457 -1.202740   \n",
       "1  1.519390  2.371436  3.087012    ...    -0.656175 -0.949323 -1.478014   \n",
       "2 -1.559474 -1.808059 -2.157373    ...     0.507871  0.489067  0.748604   \n",
       "3 -2.039657 -2.092754 -1.834460    ...    -0.869120 -0.388985  0.131208   \n",
       "4 -2.279095 -2.804397 -2.860567    ...    -1.782014 -1.935646 -2.017038   \n",
       "\n",
       "        593       594       595       596       597       598       599  \n",
       "0 -0.706720 -0.313735 -0.341366 -0.912081 -1.889642 -2.927776 -3.624055  \n",
       "1 -2.073809 -2.520703 -2.747426 -2.871896 -3.083014 -3.378452 -3.450052  \n",
       "2  1.102645  1.308947  1.210047  0.823331  0.280396 -0.199167 -0.320009  \n",
       "3  0.473263  0.459038  0.108430 -0.377032 -0.785222 -0.992103 -0.926204  \n",
       "4 -2.030505 -2.001926 -1.968619 -1.952229 -1.972033 -2.073820 -2.284887  \n",
       "\n",
       "[5 rows x 600 columns]"
      ]
     },
     "execution_count": 4,
     "metadata": {},
     "output_type": "execute_result"
    }
   ],
   "source": [
    "train_data2=pd.read_csv('data3.csv')\n",
    "train_x=pd.concat([train_data, train_data2])\n",
    "train_x.head()"
   ]
  },
  {
   "cell_type": "code",
   "execution_count": 5,
   "metadata": {},
   "outputs": [
    {
     "data": {
      "text/plain": [
       "(48, 600)"
      ]
     },
     "execution_count": 5,
     "metadata": {},
     "output_type": "execute_result"
    }
   ],
   "source": [
    "validate_data.shape"
   ]
  },
  {
   "cell_type": "code",
   "execution_count": 6,
   "metadata": {},
   "outputs": [],
   "source": [
    "y_train=pd.read_csv('labels.csv', header=None)\n",
    "y_train=y_train.transpose()\n",
    "train_y=pd.concat([y_train,y_train])"
   ]
  },
  {
   "cell_type": "code",
   "execution_count": 7,
   "metadata": {},
   "outputs": [
    {
     "data": {
      "text/plain": [
       "(96, 1)"
      ]
     },
     "execution_count": 7,
     "metadata": {},
     "output_type": "execute_result"
    }
   ],
   "source": [
    "train_y.shape"
   ]
  },
  {
   "cell_type": "code",
   "execution_count": 8,
   "metadata": {},
   "outputs": [
    {
     "data": {
      "text/plain": [
       "(48, 1)"
      ]
     },
     "execution_count": 8,
     "metadata": {},
     "output_type": "execute_result"
    }
   ],
   "source": [
    "y_validate=y_train\n",
    "y_validate.shape"
   ]
  },
  {
   "cell_type": "code",
   "execution_count": 11,
   "metadata": {},
   "outputs": [
    {
     "name": "stderr",
     "output_type": "stream",
     "text": [
      "/usr/local/lib/python3.5/dist-packages/sklearn/utils/validation.py:724: DataConversionWarning: A column-vector y was passed when a 1d array was expected. Please change the shape of y to (n_samples, ), for example using ravel().\n",
      "  y = column_or_1d(y, warn=True)\n"
     ]
    }
   ],
   "source": [
    "from sklearn.svm import SVC\n",
    "model=SVC(kernel='linear',decision_function_shape='ovo',C=1)\n",
    "model.fit(train_x,train_y)\n",
    "pred_svc=model.predict(validate_data)"
   ]
  },
  {
   "cell_type": "code",
   "execution_count": 13,
   "metadata": {},
   "outputs": [
    {
     "data": {
      "text/plain": [
       "array([[5, 2, 0, 5],\n",
       "       [1, 6, 1, 4],\n",
       "       [6, 1, 2, 3],\n",
       "       [8, 0, 0, 4]])"
      ]
     },
     "execution_count": 13,
     "metadata": {},
     "output_type": "execute_result"
    }
   ],
   "source": [
    "from sklearn.metrics import confusion_matrix\n",
    "confusion_matrix(y_validate, pred_svc)"
   ]
  },
  {
   "cell_type": "code",
   "execution_count": 15,
   "metadata": {},
   "outputs": [
    {
     "name": "stdout",
     "output_type": "stream",
     "text": [
      "              precision    recall  f1-score   support\n",
      "\n",
      "           0       0.25      0.42      0.31        12\n",
      "           1       0.67      0.50      0.57        12\n",
      "           2       0.67      0.17      0.27        12\n",
      "           3       0.25      0.33      0.29        12\n",
      "\n",
      "    accuracy                           0.35        48\n",
      "   macro avg       0.46      0.35      0.36        48\n",
      "weighted avg       0.46      0.35      0.36        48\n",
      "\n"
     ]
    }
   ],
   "source": [
    "from sklearn.metrics import classification_report\n",
    "print(classification_report(y_validate,pred_svc))"
   ]
  },
  {
   "cell_type": "markdown",
   "metadata": {},
   "source": [
    "# Initial Conclusion\n",
    "\n",
    "It seems the deep network performed much better than SVC. I haven't done parameter tuning I just used the other parameters whichgave us 100% accuracy last time"
   ]
  },
  {
   "cell_type": "code",
   "execution_count": 16,
   "metadata": {},
   "outputs": [
    {
     "name": "stderr",
     "output_type": "stream",
     "text": [
      "/usr/local/lib/python3.5/dist-packages/sklearn/utils/validation.py:724: DataConversionWarning: A column-vector y was passed when a 1d array was expected. Please change the shape of y to (n_samples, ), for example using ravel().\n",
      "  y = column_or_1d(y, warn=True)\n",
      "/usr/local/lib/python3.5/dist-packages/sklearn/svm/base.py:193: FutureWarning: The default value of gamma will change from 'auto' to 'scale' in version 0.22 to account better for unscaled features. Set gamma explicitly to 'auto' or 'scale' to avoid this warning.\n",
      "  \"avoid this warning.\", FutureWarning)\n"
     ]
    }
   ],
   "source": [
    "from sklearn.svm import SVC\n",
    "model=SVC(kernel='poly',decision_function_shape='ovo',C=1, degree=4)\n",
    "model.fit(train_x,train_y)\n",
    "pred_svc=model.predict(validate_data)"
   ]
  },
  {
   "cell_type": "code",
   "execution_count": 17,
   "metadata": {},
   "outputs": [
    {
     "data": {
      "text/plain": [
       "array([[ 9,  3,  0,  0],\n",
       "       [ 0, 12,  0,  0],\n",
       "       [ 0,  1, 11,  0],\n",
       "       [ 0,  2,  0, 10]])"
      ]
     },
     "execution_count": 17,
     "metadata": {},
     "output_type": "execute_result"
    }
   ],
   "source": [
    "from sklearn.metrics import confusion_matrix\n",
    "confusion_matrix(y_validate, pred_svc)"
   ]
  },
  {
   "cell_type": "code",
   "execution_count": 18,
   "metadata": {},
   "outputs": [
    {
     "name": "stdout",
     "output_type": "stream",
     "text": [
      "              precision    recall  f1-score   support\n",
      "\n",
      "           0       1.00      0.75      0.86        12\n",
      "           1       0.67      1.00      0.80        12\n",
      "           2       1.00      0.92      0.96        12\n",
      "           3       1.00      0.83      0.91        12\n",
      "\n",
      "    accuracy                           0.88        48\n",
      "   macro avg       0.92      0.88      0.88        48\n",
      "weighted avg       0.92      0.88      0.88        48\n",
      "\n"
     ]
    }
   ],
   "source": [
    "from sklearn.metrics import classification_report\n",
    "print(classification_report(y_validate,pred_svc))"
   ]
  },
  {
   "cell_type": "markdown",
   "metadata": {},
   "source": [
    "# Second Conclusion\n",
    "Surprise Surprise using poly fit with degree 4 increased the accuracy to more than 85%. Let's dig some more"
   ]
  },
  {
   "cell_type": "code",
   "execution_count": 19,
   "metadata": {},
   "outputs": [
    {
     "name": "stderr",
     "output_type": "stream",
     "text": [
      "/usr/local/lib/python3.5/dist-packages/sklearn/utils/validation.py:724: DataConversionWarning: A column-vector y was passed when a 1d array was expected. Please change the shape of y to (n_samples, ), for example using ravel().\n",
      "  y = column_or_1d(y, warn=True)\n",
      "/usr/local/lib/python3.5/dist-packages/sklearn/svm/base.py:193: FutureWarning: The default value of gamma will change from 'auto' to 'scale' in version 0.22 to account better for unscaled features. Set gamma explicitly to 'auto' or 'scale' to avoid this warning.\n",
      "  \"avoid this warning.\", FutureWarning)\n"
     ]
    }
   ],
   "source": [
    "from sklearn.svm import SVC\n",
    "model=SVC(kernel='poly',decision_function_shape='ovo',C=1, degree=6)\n",
    "model.fit(train_x,train_y)\n",
    "pred_svc=model.predict(validate_data)"
   ]
  },
  {
   "cell_type": "code",
   "execution_count": 20,
   "metadata": {},
   "outputs": [
    {
     "data": {
      "text/plain": [
       "array([[ 9,  3,  0,  0],\n",
       "       [ 0, 12,  0,  0],\n",
       "       [ 0,  4,  8,  0],\n",
       "       [ 0,  4,  0,  8]])"
      ]
     },
     "execution_count": 20,
     "metadata": {},
     "output_type": "execute_result"
    }
   ],
   "source": [
    "from sklearn.metrics import confusion_matrix\n",
    "confusion_matrix(y_validate, pred_svc)"
   ]
  },
  {
   "cell_type": "code",
   "execution_count": 21,
   "metadata": {},
   "outputs": [
    {
     "name": "stdout",
     "output_type": "stream",
     "text": [
      "              precision    recall  f1-score   support\n",
      "\n",
      "           0       1.00      0.75      0.86        12\n",
      "           1       0.52      1.00      0.69        12\n",
      "           2       1.00      0.67      0.80        12\n",
      "           3       1.00      0.67      0.80        12\n",
      "\n",
      "    accuracy                           0.77        48\n",
      "   macro avg       0.88      0.77      0.79        48\n",
      "weighted avg       0.88      0.77      0.79        48\n",
      "\n"
     ]
    }
   ],
   "source": [
    "from sklearn.metrics import classification_report\n",
    "print(classification_report(y_validate,pred_svc))"
   ]
  },
  {
   "cell_type": "markdown",
   "metadata": {},
   "source": [
    "# Third Conclusion\n",
    "Increasing the degree decreases the accuracy so poly has its limit at 5 I guess"
   ]
  },
  {
   "cell_type": "code",
   "execution_count": 22,
   "metadata": {},
   "outputs": [
    {
     "name": "stderr",
     "output_type": "stream",
     "text": [
      "/usr/local/lib/python3.5/dist-packages/sklearn/utils/validation.py:724: DataConversionWarning: A column-vector y was passed when a 1d array was expected. Please change the shape of y to (n_samples, ), for example using ravel().\n",
      "  y = column_or_1d(y, warn=True)\n",
      "/usr/local/lib/python3.5/dist-packages/sklearn/svm/base.py:193: FutureWarning: The default value of gamma will change from 'auto' to 'scale' in version 0.22 to account better for unscaled features. Set gamma explicitly to 'auto' or 'scale' to avoid this warning.\n",
      "  \"avoid this warning.\", FutureWarning)\n"
     ]
    }
   ],
   "source": [
    "from sklearn.svm import SVC\n",
    "model=SVC(kernel='poly',decision_function_shape='ovo',C=1, degree=5)\n",
    "model.fit(train_x,train_y)\n",
    "pred_svc=model.predict(validate_data)"
   ]
  },
  {
   "cell_type": "code",
   "execution_count": 23,
   "metadata": {},
   "outputs": [
    {
     "data": {
      "text/plain": [
       "array([[ 9,  3,  0,  0],\n",
       "       [ 0, 12,  0,  0],\n",
       "       [ 0,  3,  9,  0],\n",
       "       [ 0,  2,  0, 10]])"
      ]
     },
     "execution_count": 23,
     "metadata": {},
     "output_type": "execute_result"
    }
   ],
   "source": [
    "from sklearn.metrics import confusion_matrix\n",
    "confusion_matrix(y_validate, pred_svc)"
   ]
  },
  {
   "cell_type": "code",
   "execution_count": 24,
   "metadata": {},
   "outputs": [
    {
     "name": "stdout",
     "output_type": "stream",
     "text": [
      "              precision    recall  f1-score   support\n",
      "\n",
      "           0       1.00      0.75      0.86        12\n",
      "           1       0.60      1.00      0.75        12\n",
      "           2       1.00      0.75      0.86        12\n",
      "           3       1.00      0.83      0.91        12\n",
      "\n",
      "    accuracy                           0.83        48\n",
      "   macro avg       0.90      0.83      0.84        48\n",
      "weighted avg       0.90      0.83      0.84        48\n",
      "\n"
     ]
    }
   ],
   "source": [
    "from sklearn.metrics import classification_report\n",
    "print(classification_report(y_validate,pred_svc))"
   ]
  },
  {
   "cell_type": "markdown",
   "metadata": {},
   "source": [
    "Yup, degree 4 yields the best result let's use rbf and see what we get"
   ]
  },
  {
   "cell_type": "code",
   "execution_count": 27,
   "metadata": {},
   "outputs": [
    {
     "name": "stderr",
     "output_type": "stream",
     "text": [
      "/usr/local/lib/python3.5/dist-packages/sklearn/utils/validation.py:724: DataConversionWarning: A column-vector y was passed when a 1d array was expected. Please change the shape of y to (n_samples, ), for example using ravel().\n",
      "  y = column_or_1d(y, warn=True)\n",
      "/usr/local/lib/python3.5/dist-packages/sklearn/svm/base.py:193: FutureWarning: The default value of gamma will change from 'auto' to 'scale' in version 0.22 to account better for unscaled features. Set gamma explicitly to 'auto' or 'scale' to avoid this warning.\n",
      "  \"avoid this warning.\", FutureWarning)\n"
     ]
    }
   ],
   "source": [
    "from sklearn.svm import SVC\n",
    "model=SVC(kernel='rbf',decision_function_shape='ovo',C=1)\n",
    "model.fit(train_x,train_y)\n",
    "pred_svc=model.predict(validate_data)"
   ]
  },
  {
   "cell_type": "code",
   "execution_count": 28,
   "metadata": {},
   "outputs": [
    {
     "data": {
      "text/plain": [
       "array([[12,  0,  0,  0],\n",
       "       [ 2, 10,  0,  0],\n",
       "       [ 0,  0, 12,  0],\n",
       "       [ 2,  0,  0, 10]])"
      ]
     },
     "execution_count": 28,
     "metadata": {},
     "output_type": "execute_result"
    }
   ],
   "source": [
    "from sklearn.metrics import confusion_matrix\n",
    "confusion_matrix(y_validate, pred_svc)"
   ]
  },
  {
   "cell_type": "code",
   "execution_count": 29,
   "metadata": {},
   "outputs": [
    {
     "name": "stdout",
     "output_type": "stream",
     "text": [
      "              precision    recall  f1-score   support\n",
      "\n",
      "           0       0.75      1.00      0.86        12\n",
      "           1       1.00      0.83      0.91        12\n",
      "           2       1.00      1.00      1.00        12\n",
      "           3       1.00      0.83      0.91        12\n",
      "\n",
      "    accuracy                           0.92        48\n",
      "   macro avg       0.94      0.92      0.92        48\n",
      "weighted avg       0.94      0.92      0.92        48\n",
      "\n"
     ]
    }
   ],
   "source": [
    "from sklearn.metrics import classification_report\n",
    "print(classification_report(y_validate,pred_svc))"
   ]
  },
  {
   "cell_type": "markdown",
   "metadata": {},
   "source": [
    "# Final SVC Conclusion\n",
    "Well this is the maximum accuraccy I can squeeze out using SVC which is above 90% and I think it is much better than deep neural network because-\n",
    "1. The complexity of the whole system is reduced\n",
    "2. The code is much simpler and efficient compared to a deep network\n",
    "3. Much faster, much accracy!"
   ]
  },
  {
   "cell_type": "code",
   "execution_count": null,
   "metadata": {},
   "outputs": [],
   "source": []
  }
 ],
 "metadata": {
  "kernelspec": {
   "display_name": "Python 3",
   "language": "python",
   "name": "python3"
  },
  "language_info": {
   "codemirror_mode": {
    "name": "ipython",
    "version": 3
   },
   "file_extension": ".py",
   "mimetype": "text/x-python",
   "name": "python",
   "nbconvert_exporter": "python",
   "pygments_lexer": "ipython3",
   "version": "3.5.2"
  }
 },
 "nbformat": 4,
 "nbformat_minor": 2
}
