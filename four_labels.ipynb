{
 "cells": [
  {
   "cell_type": "markdown",
   "metadata": {},
   "source": [
    "# Try With Deep Learning\n",
    "I havent tried it using simple classifiers and heading straight into deep learning"
   ]
  },
  {
   "cell_type": "code",
   "execution_count": 43,
   "metadata": {},
   "outputs": [],
   "source": [
    "import numpy as np\n",
    "import pandas as pd\n",
    "import matplotlib.pyplot as plt\n",
    "import seaborn as sns\n",
    "%matplotlib inline\n",
    "from keras.utils.np_utils import to_categorical\n",
    "from sklearn.preprocessing import LabelEncoder\n",
    "from keras.utils import np_utils\n",
    "from keras.models import Sequential\n",
    "from keras.layers import Dense\n",
    "from keras.optimizers import Adam,SGD\n",
    "from keras.layers import Dropout\n",
    "from keras.wrappers.scikit_learn import KerasClassifier\n",
    "from sklearn.model_selection import KFold\n",
    "from sklearn.model_selection import cross_val_score\n",
    "from sklearn.model_selection import train_test_split\n",
    "from keras.callbacks import ModelCheckpoint\n",
    "import h5py\n",
    "from keras.models import model_from_json\n",
    "import os"
   ]
  },
  {
   "cell_type": "code",
   "execution_count": 44,
   "metadata": {},
   "outputs": [],
   "source": [
    "train_data=pd.read_csv('data1.csv')\n",
    "validate_data=pd.read_csv('data2.csv')"
   ]
  },
  {
   "cell_type": "code",
   "execution_count": 45,
   "metadata": {},
   "outputs": [
    {
     "data": {
      "text/html": [
       "<div>\n",
       "<table border=\"1\" class=\"dataframe\">\n",
       "  <thead>\n",
       "    <tr style=\"text-align: right;\">\n",
       "      <th></th>\n",
       "      <th>0</th>\n",
       "      <th>1</th>\n",
       "      <th>2</th>\n",
       "      <th>3</th>\n",
       "      <th>4</th>\n",
       "      <th>5</th>\n",
       "      <th>6</th>\n",
       "      <th>7</th>\n",
       "      <th>8</th>\n",
       "      <th>9</th>\n",
       "      <th>...</th>\n",
       "      <th>590</th>\n",
       "      <th>591</th>\n",
       "      <th>592</th>\n",
       "      <th>593</th>\n",
       "      <th>594</th>\n",
       "      <th>595</th>\n",
       "      <th>596</th>\n",
       "      <th>597</th>\n",
       "      <th>598</th>\n",
       "      <th>599</th>\n",
       "    </tr>\n",
       "  </thead>\n",
       "  <tbody>\n",
       "    <tr>\n",
       "      <th>0</th>\n",
       "      <td>-0.320710</td>\n",
       "      <td>-0.813104</td>\n",
       "      <td>-1.797856</td>\n",
       "      <td>-2.671061</td>\n",
       "      <td>-3.103414</td>\n",
       "      <td>-2.988188</td>\n",
       "      <td>-2.511264</td>\n",
       "      <td>-1.782173</td>\n",
       "      <td>-0.957324</td>\n",
       "      <td>-0.046539</td>\n",
       "      <td>...</td>\n",
       "      <td>-1.335625</td>\n",
       "      <td>-1.465457</td>\n",
       "      <td>-1.202740</td>\n",
       "      <td>-0.706720</td>\n",
       "      <td>-0.313735</td>\n",
       "      <td>-0.341366</td>\n",
       "      <td>-0.912081</td>\n",
       "      <td>-1.889642</td>\n",
       "      <td>-2.927776</td>\n",
       "      <td>-3.624055</td>\n",
       "    </tr>\n",
       "    <tr>\n",
       "      <th>1</th>\n",
       "      <td>0.961586</td>\n",
       "      <td>0.989782</td>\n",
       "      <td>0.835355</td>\n",
       "      <td>0.574514</td>\n",
       "      <td>0.386786</td>\n",
       "      <td>0.447138</td>\n",
       "      <td>0.832640</td>\n",
       "      <td>1.519390</td>\n",
       "      <td>2.371436</td>\n",
       "      <td>3.087012</td>\n",
       "      <td>...</td>\n",
       "      <td>-0.656175</td>\n",
       "      <td>-0.949323</td>\n",
       "      <td>-1.478014</td>\n",
       "      <td>-2.073809</td>\n",
       "      <td>-2.520703</td>\n",
       "      <td>-2.747426</td>\n",
       "      <td>-2.871896</td>\n",
       "      <td>-3.083014</td>\n",
       "      <td>-3.378452</td>\n",
       "      <td>-3.450052</td>\n",
       "    </tr>\n",
       "    <tr>\n",
       "      <th>2</th>\n",
       "      <td>0.949166</td>\n",
       "      <td>0.805315</td>\n",
       "      <td>0.293494</td>\n",
       "      <td>-0.344036</td>\n",
       "      <td>-0.910021</td>\n",
       "      <td>-1.272160</td>\n",
       "      <td>-1.433150</td>\n",
       "      <td>-1.559474</td>\n",
       "      <td>-1.808059</td>\n",
       "      <td>-2.157373</td>\n",
       "      <td>...</td>\n",
       "      <td>0.507871</td>\n",
       "      <td>0.489067</td>\n",
       "      <td>0.748604</td>\n",
       "      <td>1.102645</td>\n",
       "      <td>1.308947</td>\n",
       "      <td>1.210047</td>\n",
       "      <td>0.823331</td>\n",
       "      <td>0.280396</td>\n",
       "      <td>-0.199167</td>\n",
       "      <td>-0.320009</td>\n",
       "    </tr>\n",
       "    <tr>\n",
       "      <th>3</th>\n",
       "      <td>0.413452</td>\n",
       "      <td>0.046589</td>\n",
       "      <td>-0.298862</td>\n",
       "      <td>-0.571118</td>\n",
       "      <td>-0.839083</td>\n",
       "      <td>-1.210393</td>\n",
       "      <td>-1.674694</td>\n",
       "      <td>-2.039657</td>\n",
       "      <td>-2.092754</td>\n",
       "      <td>-1.834460</td>\n",
       "      <td>...</td>\n",
       "      <td>-0.869120</td>\n",
       "      <td>-0.388985</td>\n",
       "      <td>0.131208</td>\n",
       "      <td>0.473263</td>\n",
       "      <td>0.459038</td>\n",
       "      <td>0.108430</td>\n",
       "      <td>-0.377032</td>\n",
       "      <td>-0.785222</td>\n",
       "      <td>-0.992103</td>\n",
       "      <td>-0.926204</td>\n",
       "    </tr>\n",
       "    <tr>\n",
       "      <th>4</th>\n",
       "      <td>0.661680</td>\n",
       "      <td>0.707341</td>\n",
       "      <td>0.453906</td>\n",
       "      <td>0.018676</td>\n",
       "      <td>-0.496279</td>\n",
       "      <td>-1.036679</td>\n",
       "      <td>-1.624540</td>\n",
       "      <td>-2.279095</td>\n",
       "      <td>-2.804397</td>\n",
       "      <td>-2.860567</td>\n",
       "      <td>...</td>\n",
       "      <td>-1.782014</td>\n",
       "      <td>-1.935646</td>\n",
       "      <td>-2.017038</td>\n",
       "      <td>-2.030505</td>\n",
       "      <td>-2.001926</td>\n",
       "      <td>-1.968619</td>\n",
       "      <td>-1.952229</td>\n",
       "      <td>-1.972033</td>\n",
       "      <td>-2.073820</td>\n",
       "      <td>-2.284887</td>\n",
       "    </tr>\n",
       "  </tbody>\n",
       "</table>\n",
       "<p>5 rows × 600 columns</p>\n",
       "</div>"
      ],
      "text/plain": [
       "          0         1         2         3         4         5         6  \\\n",
       "0 -0.320710 -0.813104 -1.797856 -2.671061 -3.103414 -2.988188 -2.511264   \n",
       "1  0.961586  0.989782  0.835355  0.574514  0.386786  0.447138  0.832640   \n",
       "2  0.949166  0.805315  0.293494 -0.344036 -0.910021 -1.272160 -1.433150   \n",
       "3  0.413452  0.046589 -0.298862 -0.571118 -0.839083 -1.210393 -1.674694   \n",
       "4  0.661680  0.707341  0.453906  0.018676 -0.496279 -1.036679 -1.624540   \n",
       "\n",
       "          7         8         9    ...          590       591       592  \\\n",
       "0 -1.782173 -0.957324 -0.046539    ...    -1.335625 -1.465457 -1.202740   \n",
       "1  1.519390  2.371436  3.087012    ...    -0.656175 -0.949323 -1.478014   \n",
       "2 -1.559474 -1.808059 -2.157373    ...     0.507871  0.489067  0.748604   \n",
       "3 -2.039657 -2.092754 -1.834460    ...    -0.869120 -0.388985  0.131208   \n",
       "4 -2.279095 -2.804397 -2.860567    ...    -1.782014 -1.935646 -2.017038   \n",
       "\n",
       "        593       594       595       596       597       598       599  \n",
       "0 -0.706720 -0.313735 -0.341366 -0.912081 -1.889642 -2.927776 -3.624055  \n",
       "1 -2.073809 -2.520703 -2.747426 -2.871896 -3.083014 -3.378452 -3.450052  \n",
       "2  1.102645  1.308947  1.210047  0.823331  0.280396 -0.199167 -0.320009  \n",
       "3  0.473263  0.459038  0.108430 -0.377032 -0.785222 -0.992103 -0.926204  \n",
       "4 -2.030505 -2.001926 -1.968619 -1.952229 -1.972033 -2.073820 -2.284887  \n",
       "\n",
       "[5 rows x 600 columns]"
      ]
     },
     "execution_count": 45,
     "metadata": {},
     "output_type": "execute_result"
    }
   ],
   "source": [
    "train_data2=pd.read_csv('data3.csv')\n",
    "train_x=pd.concat([train_data, train_data2])\n",
    "train_x.head()"
   ]
  },
  {
   "cell_type": "code",
   "execution_count": 46,
   "metadata": {},
   "outputs": [
    {
     "data": {
      "text/plain": [
       "(48, 600)"
      ]
     },
     "execution_count": 46,
     "metadata": {},
     "output_type": "execute_result"
    }
   ],
   "source": [
    "validate_data.shape"
   ]
  },
  {
   "cell_type": "code",
   "execution_count": 47,
   "metadata": {},
   "outputs": [],
   "source": [
    "y_train=pd.read_csv('labels.csv', header=None)\n",
    "y_train=y_train.transpose()\n",
    "train_y=pd.concat([y_train,y_train])"
   ]
  },
  {
   "cell_type": "code",
   "execution_count": 48,
   "metadata": {},
   "outputs": [
    {
     "data": {
      "text/plain": [
       "(96, 1)"
      ]
     },
     "execution_count": 48,
     "metadata": {},
     "output_type": "execute_result"
    }
   ],
   "source": [
    "train_y.shape"
   ]
  },
  {
   "cell_type": "code",
   "execution_count": 49,
   "metadata": {},
   "outputs": [
    {
     "data": {
      "text/plain": [
       "(48, 1)"
      ]
     },
     "execution_count": 49,
     "metadata": {},
     "output_type": "execute_result"
    }
   ],
   "source": [
    "y_validate=y_train\n",
    "y_validate.shape"
   ]
  },
  {
   "cell_type": "code",
   "execution_count": 50,
   "metadata": {},
   "outputs": [],
   "source": [
    "encoder = LabelEncoder()\n",
    "encoder.fit(train_y)\n",
    "encoded_train_y = encoder.transform(train_y)\n",
    "dummy_train_y = np_utils.to_categorical(encoded_train_y)"
   ]
  },
  {
   "cell_type": "code",
   "execution_count": 51,
   "metadata": {},
   "outputs": [],
   "source": [
    "encoder = LabelEncoder()\n",
    "encoder.fit(y_validate)\n",
    "encoded_validate_y = encoder.transform(y_validate)\n",
    "dummy_validate_y = np_utils.to_categorical(encoded_validate_y)"
   ]
  },
  {
   "cell_type": "code",
   "execution_count": 52,
   "metadata": {},
   "outputs": [
    {
     "data": {
      "text/plain": [
       "(96, 4)"
      ]
     },
     "execution_count": 52,
     "metadata": {},
     "output_type": "execute_result"
    }
   ],
   "source": [
    "dummy_train_y.shape"
   ]
  },
  {
   "cell_type": "code",
   "execution_count": 53,
   "metadata": {},
   "outputs": [
    {
     "data": {
      "text/plain": [
       "(48, 4)"
      ]
     },
     "execution_count": 53,
     "metadata": {},
     "output_type": "execute_result"
    }
   ],
   "source": [
    "dummy_validate_y.shape"
   ]
  },
  {
   "cell_type": "code",
   "execution_count": 54,
   "metadata": {},
   "outputs": [
    {
     "name": "stdout",
     "output_type": "stream",
     "text": [
      "_________________________________________________________________\n",
      "Layer (type)                 Output Shape              Param #   \n",
      "=================================================================\n",
      "dense_15 (Dense)             (None, 1024)              615424    \n",
      "_________________________________________________________________\n",
      "dropout_13 (Dropout)         (None, 1024)              0         \n",
      "_________________________________________________________________\n",
      "dense_16 (Dense)             (None, 128)               131200    \n",
      "_________________________________________________________________\n",
      "dropout_14 (Dropout)         (None, 128)               0         \n",
      "_________________________________________________________________\n",
      "dense_17 (Dense)             (None, 512)               66048     \n",
      "_________________________________________________________________\n",
      "dropout_15 (Dropout)         (None, 512)               0         \n",
      "_________________________________________________________________\n",
      "dense_18 (Dense)             (None, 64)                32832     \n",
      "_________________________________________________________________\n",
      "dropout_16 (Dropout)         (None, 64)                0         \n",
      "_________________________________________________________________\n",
      "dense_19 (Dense)             (None, 128)               8320      \n",
      "_________________________________________________________________\n",
      "dropout_17 (Dropout)         (None, 128)               0         \n",
      "_________________________________________________________________\n",
      "dense_20 (Dense)             (None, 64)                8256      \n",
      "_________________________________________________________________\n",
      "dropout_18 (Dropout)         (None, 64)                0         \n",
      "_________________________________________________________________\n",
      "dense_21 (Dense)             (None, 4)                 260       \n",
      "=================================================================\n",
      "Total params: 862,340\n",
      "Trainable params: 862,340\n",
      "Non-trainable params: 0\n",
      "_________________________________________________________________\n"
     ]
    }
   ],
   "source": [
    "model=Sequential()\n",
    "n_cols = train_data.shape[1]\n",
    "model.add(Dense(1024,activation='relu',  input_shape=(n_cols,)))\n",
    "model.add(Dropout(.2))\n",
    "model.add(Dense(128,activation='relu'))\n",
    "model.add(Dropout(.2))\n",
    "model.add(Dense(512,activation='relu'))\n",
    "model.add(Dropout(.2))\n",
    "model.add(Dense(64,activation='relu'))\n",
    "model.add(Dropout(.2))\n",
    "model.add(Dense(128,activation='relu'))\n",
    "model.add(Dropout(.2))\n",
    "model.add(Dense(64,activation='relu'))\n",
    "model.add(Dropout(.1))\n",
    "model.add(Dense(4,activation='softmax'))\n",
    "opt=Adam(lr=.01)\n",
    "model.compile(opt,loss='categorical_crossentropy',metrics=['accuracy'])\n",
    "model.summary()"
   ]
  },
  {
   "cell_type": "code",
   "execution_count": 55,
   "metadata": {},
   "outputs": [
    {
     "name": "stdout",
     "output_type": "stream",
     "text": [
      "Train on 96 samples, validate on 48 samples\n",
      "Epoch 1/10000\n",
      "90/90 [==============================] - 2s 22ms/step - loss: 0.4741 - acc: 0.8804 - val_loss: 1.8268 - val_acc: 0.8125\n",
      "Epoch 2/10000\n",
      "90/90 [==============================] - 1s 14ms/step - loss: 1.5738 - acc: 0.8238 - val_loss: 3.4938 - val_acc: 0.7708\n",
      "Epoch 3/10000\n",
      "90/90 [==============================] - 1s 14ms/step - loss: 6.2898 - acc: 0.5459 - val_loss: 3.6068 - val_acc: 0.7292\n",
      "Epoch 4/10000\n",
      "90/90 [==============================] - 1s 15ms/step - loss: 4.1328 - acc: 0.6339 - val_loss: 3.2797 - val_acc: 0.7292\n"
     ]
    }
   ],
   "source": [
    "from keras.callbacks import EarlyStopping\n",
    "\n",
    "early_stopping_monitor = EarlyStopping(patience=3)\n",
    "\n",
    "checkpoint_filepath = 'weights2.best.my.hdf5'\n",
    "\n",
    "my_checkpointer = ModelCheckpoint(filepath=checkpoint_filepath,\n",
    "                               verbose=1, save_best_only=True)\n",
    "history=model.fit(train_x, dummy_train_y,steps_per_epoch=90,validation_data=(validate_data,dummy_validate_y), epochs = 10000,validation_steps=48,callbacks=[early_stopping_monitor])"
   ]
  },
  {
   "cell_type": "code",
   "execution_count": 60,
   "metadata": {},
   "outputs": [
    {
     "data": {
      "text/plain": [
       "<matplotlib.legend.Legend at 0x7f21840a4c18>"
      ]
     },
     "execution_count": 60,
     "metadata": {},
     "output_type": "execute_result"
    },
    {
     "data": {
      "image/png": "[encoded data removed]",
      "text/plain": [
       "<Figure size 432x288 with 1 Axes>"
      ]
     },
     "metadata": {
      "needs_background": "light"
     },
     "output_type": "display_data"
    }
   ],
   "source": [
    "plt.plot(history.history['acc'],label='train_set')\n",
    "plt.plot(history.history['val_acc'], label='validate')\n",
    "plt.title('Accuracy')\n",
    "plt.xlabel('epoch')\n",
    "plt.ylabel('Accuracy')\n",
    "plt.legend()"
   ]
  },
  {
   "cell_type": "code",
   "execution_count": 57,
   "metadata": {},
   "outputs": [
    {
     "name": "stdout",
     "output_type": "stream",
     "text": [
      "Saved model to disk\n"
     ]
    }
   ],
   "source": [
    "model_json = model.to_json()\n",
    "with open(\"bci_model.json\", \"w\") as json_file:\n",
    "    json_file.write(model_json)\n",
    "# serialize weights to HDF5\n",
    "model.save_weights(\"bci_model.h5\")\n",
    "print(\"Saved model to disk\")"
   ]
  },
  {
   "cell_type": "markdown",
   "metadata": {},
   "source": [
    "# Summary\n",
    "I got an accuracy of 80% in the first epoch itself after that the model just started to oferfit the data. The reason is maybe due to less data. I haven't tried using normal classifiers but as a deep learning algorithm this is really good as only in one epoch we get such a good result. But having said that my personal intake on the observation is-\n",
    "1. The data might be noisy I haven't done exploratory analysis of the data as to see if there are outliers. In case of the eye movement experiment with Mr. Abdul we found that the outliers played a really important role.\n",
    "2. Maybe if get more data we can be sure that the model behaves like this regardless the number of training samples.\n",
    "3. I haven't tried to normalise the data. I have taken all the data assuming each feature has the same unit."
   ]
  },
  {
   "cell_type": "code",
   "execution_count": null,
   "metadata": {},
   "outputs": [],
   "source": []
  }
 ],
 "metadata": {
  "kernelspec": {
   "display_name": "Python 3",
   "language": "python",
   "name": "python3"
  },
  "language_info": {
   "codemirror_mode": {
    "name": "ipython",
    "version": 3
   },
   "file_extension": ".py",
   "mimetype": "text/x-python",
   "name": "python",
   "nbconvert_exporter": "python",
   "pygments_lexer": "ipython3",
   "version": "3.5.2"
  }
 },
 "nbformat": 4,
 "nbformat_minor": 2
}
